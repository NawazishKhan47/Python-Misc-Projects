{
 "cells": [
  {
   "cell_type": "code",
   "execution_count": null,
   "id": "1d54dec8",
   "metadata": {},
   "outputs": [],
   "source": [
    "import sys\n",
    "balance = 47000\n",
    "password = 4747\n",
    "Options = [1,2,3,4,5,6,7,8,9,0]\n",
    "Verified = False\n",
    "#Step1 : Insert ATM\n",
    "\n",
    "print(\"Welcome to Daaku ATM!\")\n",
    "pin = (int(input('\\nPlease enter your pin number: ')))\n",
    "attempt = 3\n",
    "if(attempt > 0):\n",
    "    while pin != password and attempt > 0:\n",
    "        attempt -= 1\n",
    "        print(\"Wrong password, attempts left: \", attempt)\n",
    "        pin = (int(input('\\nPlease enter your pin number: ')))\n",
    "\n",
    "\n",
    "\n",
    "\n",
    "\n",
    "    while pin == password:\n",
    "        print(\"\\n 1: Change your password\")\n",
    "        print(\"\\n 2: Check account balance\")\n",
    "        print(\"\\n 3: Withdrawal\")\n",
    "        print(\"\\n 4: Exit\")\n",
    "        x = (int(input(\"Enter your choice: \")))\n",
    "        if x == 1:\n",
    "            pin_confirm = int(input(\"please enter your old password\"))\n",
    "            if pin_confirm == password:\n",
    "                conf_newpass = int(input(\"Enter new password: \"))\n",
    "                conf2_newpass = int(input(\"Enter new password again for confirmation: \"))\n",
    "                if conf_newpass == conf2_newpass:\n",
    "                    password = conf2_newpass\n",
    "                    print(\"Password updated\")\n",
    "                else:\n",
    "                    print(\"Please try again later\")\n",
    "            else:\n",
    "                sys.exit(\"Wrong password, please try again\")\n",
    "        elif x == 2:\n",
    "            print(\"Your current balance is: Rs.\" + str(balance) )\n",
    "            print(\"Please collect your card\")\n",
    "        elif x == 3:\n",
    "            withdraw_amnt = int(input(\"Please enter amount you want to withdraw: \"))\n",
    "            if withdraw_amnt <= balance:\n",
    "                balance = balance - withdraw_amnt\n",
    "                print(\"collect your cash and card\")\n",
    "                print(\"Your remaining balance is: Rs.\" + str(balance))\n",
    "            else:\n",
    "                sys.exit(\"Insufficient balance in account, collect your card\")\n",
    "        elif x == 4:\n",
    "            sys.exit(\"Please collect your card\")\n",
    "\n",
    "    else:\n",
    "        print(\"Please collect your card and try again later.\")"
   ]
  }
 ],
 "metadata": {
  "kernelspec": {
   "display_name": "Python 3 (ipykernel)",
   "language": "python",
   "name": "python3"
  },
  "language_info": {
   "codemirror_mode": {
    "name": "ipython",
    "version": 3
   },
   "file_extension": ".py",
   "mimetype": "text/x-python",
   "name": "python",
   "nbconvert_exporter": "python",
   "pygments_lexer": "ipython3",
   "version": "3.10.9"
  }
 },
 "nbformat": 4,
 "nbformat_minor": 5
}
